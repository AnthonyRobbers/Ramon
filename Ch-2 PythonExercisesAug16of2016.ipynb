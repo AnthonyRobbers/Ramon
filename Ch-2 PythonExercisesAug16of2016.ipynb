{
 "metadata": {
  "name": "",
  "signature": "sha256:0d337f59c7844d2e0e2562415168836d7ff94fc31089acd737f05bdb7d87e252"
 },
 "nbformat": 3,
 "nbformat_minor": 0,
 "worksheets": [
  {
   "cells": [
    {
     "cell_type": "markdown",
     "metadata": {},
     "source": [
      "#[Python Practice Book](http://anandology.com/python-practice-book/index.html):\n",
      "\n",
      "Problems and Solutions for **[Chapter 2: Working with Data](http://anandology.com/python-practice-book/working-with-data.html)**"
     ]
    },
    {
     "cell_type": "markdown",
     "metadata": {},
     "source": [
      "#2.1.1. The for Statement"
     ]
    },
    {
     "cell_type": "markdown",
     "metadata": {},
     "source": [
      "###Problem 8: Write a function cumulative_sum to compute cumulative sum of a list. "
     ]
    },
    {
     "cell_type": "code",
     "collapsed": false,
     "input": [
      "def cumulative_sum(list):\n",
      "    cum = []\n",
      "    sum = 0\n",
      "    for i in range(len(list)):\n",
      "        sum = sum + list[i]\n",
      "        cum.append(sum)\n",
      "    return cum"
     ],
     "language": "python",
     "metadata": {},
     "outputs": [],
     "prompt_number": 1
    },
    {
     "cell_type": "code",
     "collapsed": false,
     "input": [
      "cumulative_sum([1, 2, 3, 4])"
     ],
     "language": "python",
     "metadata": {},
     "outputs": [
      {
       "metadata": {},
       "output_type": "pyout",
       "prompt_number": 2,
       "text": [
        "[1, 3, 6, 10]"
       ]
      }
     ],
     "prompt_number": 2
    },
    {
     "cell_type": "markdown",
     "metadata": {},
     "source": [
      "###Problem 9: Write a function cumulative_product to compute cumulative product of a list of numbers."
     ]
    },
    {
     "cell_type": "code",
     "collapsed": false,
     "input": [
      "def cumulative_product(list):\n",
      "    cum_products = []\n",
      "    product = 1\n",
      "    for i in range(0, len(list)):\n",
      "        product = product * list[i]\n",
      "        cum_products.append(product)\n",
      "    return cum_products"
     ],
     "language": "python",
     "metadata": {},
     "outputs": [],
     "prompt_number": 3
    },
    {
     "cell_type": "code",
     "collapsed": false,
     "input": [
      "cumulative_product([1, 2, 3, 4])"
     ],
     "language": "python",
     "metadata": {},
     "outputs": [
      {
       "metadata": {},
       "output_type": "pyout",
       "prompt_number": 4,
       "text": [
        "[1, 2, 6, 24]"
       ]
      }
     ],
     "prompt_number": 4
    },
    {
     "cell_type": "markdown",
     "metadata": {},
     "source": [
      "###Problem 10 (Solution A): Write a function unique to find all the unique elements of a list.\n",
      "\n",
      "    Using the sorted() function which returns a new list"
     ]
    },
    {
     "cell_type": "code",
     "collapsed": false,
     "input": [
      "def unique(list):\n",
      "    unique_elements = []\n",
      "    for i in range(1, len(list)):\n",
      "        if list[i] not in unique_elements:\n",
      "            unique_elements.append(list[i])\n",
      "    return sorted(unique_elements)"
     ],
     "language": "python",
     "metadata": {},
     "outputs": [],
     "prompt_number": 5
    },
    {
     "cell_type": "code",
     "collapsed": false,
     "input": [
      "unique([1, 2, 1, 3, 2, 5])"
     ],
     "language": "python",
     "metadata": {},
     "outputs": [
      {
       "metadata": {},
       "output_type": "pyout",
       "prompt_number": 6,
       "text": [
        "[1, 2, 3, 5]"
       ]
      }
     ],
     "prompt_number": 6
    },
    {
     "cell_type": "markdown",
     "metadata": {},
     "source": [
      "###Problem 10 (Solution B): Write a function unique to find all the unique elements of a list.\n",
      "\n",
      "    Using the .sort() method which modifies a given list."
     ]
    },
    {
     "cell_type": "code",
     "collapsed": false,
     "input": [
      "def unique(list):\n",
      "    unique_elements = []\n",
      "    for i in range(1, len(list)):\n",
      "        if list[i] not in unique_elements:\n",
      "            unique_elements.append(list[i])\n",
      "            unique_elements.sort()\n",
      "    return unique_elements"
     ],
     "language": "python",
     "metadata": {},
     "outputs": [],
     "prompt_number": 7
    },
    {
     "cell_type": "code",
     "collapsed": false,
     "input": [
      "unique([1, 2, 1, 3, 2, 5])"
     ],
     "language": "python",
     "metadata": {},
     "outputs": [
      {
       "metadata": {},
       "output_type": "pyout",
       "prompt_number": 8,
       "text": [
        "[1, 2, 3, 5]"
       ]
      }
     ],
     "prompt_number": 8
    },
    {
     "cell_type": "code",
     "collapsed": false,
     "input": [
      "#test to make sure this is getting the first element\n",
      "unique([8,3,4,1,4,5])"
     ],
     "language": "python",
     "metadata": {},
     "outputs": [
      {
       "metadata": {},
       "output_type": "pyout",
       "prompt_number": 1,
       "text": [
        "array([1, 3, 4, 5, 8])"
       ]
      }
     ],
     "prompt_number": 1
    },
    {
     "cell_type": "markdown",
     "metadata": {},
     "source": [
      "<font color=\"red\">\n",
      "\n",
      "Anthony: Would you help me with this problem.\n",
      "\n",
      "</font>\n",
      "\n",
      "Problem 11: Write a function dups to find all duplicates in the list.\n",
      "    >>> dups([1, 2, 1, 3, 2, 5])\n",
      "    [1, 2]\n",
      "    \n",
      "</font>"
     ]
    },
    {
     "cell_type": "code",
     "collapsed": false,
     "input": [
      "# Problem 11 Anthony\n",
      "def dups(list):\n",
      "    \n",
      "    duplicated_entries = []\n",
      "    unique_entries = []\n",
      "\n",
      "    for i in range(0, len(list)):\n",
      "           \n",
      "        if list[i] not in unique_entries:\n",
      "            unique_entries.append(list[i])\n",
      "        \n",
      "        else:\n",
      "            duplicated_entries.append(list[i])\n",
      "    \n",
      "    return unique_entries, duplicated_entries\n",
      "\n",
      "    '''\n",
      "    Thanks Anthony!\n",
      "    I find your solution quite clever. \n",
      "    I modified the function so that it produces both\n",
      "    the unique entries and the dupplicate entries.\n",
      "    '''"
     ],
     "language": "python",
     "metadata": {},
     "outputs": [],
     "prompt_number": 7
    },
    {
     "cell_type": "markdown",
     "metadata": {},
     "source": [
      "'''\n",
      "this is pretty much just adding an else statement to unique and returning the other list\n",
      "it might be better if it uses elif to only add a single duplicated item, but the instructions are unclear\n",
      "if they want all duplicated items in the list or just a list of items that occure more than once\n",
      "'''"
     ]
    },
    {
     "cell_type": "code",
     "collapsed": false,
     "input": [
      "dups([1,2,1,3,2,5])"
     ],
     "language": "python",
     "metadata": {},
     "outputs": [
      {
       "metadata": {},
       "output_type": "pyout",
       "prompt_number": 5,
       "text": [
        "([1, 2, 3, 5], [1, 2])"
       ]
      }
     ],
     "prompt_number": 5
    },
    {
     "cell_type": "markdown",
     "metadata": {},
     "source": [
      "<font color=\"red\">\n",
      "\n",
      "Anthony: Would you help me with this problem.\n",
      "\n",
      "</font>\n",
      "\n",
      "Problem 12: Write a function group(list, size) that take a list and splits into smaller lists of given size.\n",
      "    >>> group([1, 2, 3, 4, 5, 6, 7, 8, 9], 3)\n",
      "        [[1, 2, 3], [4, 5, 6], [7, 8, 9]]\n",
      "    >>> group([1, 2, 3, 4, 5, 6, 7, 8, 9], 4)\n",
      "        [[1, 2, 3, 4], [5, 6, 7, 8], [9]]"
     ]
    },
    {
     "cell_type": "code",
     "collapsed": false,
     "input": [
      "# Problem 12 Anthony\n",
      "def group(list, size):\n",
      "    \n",
      "    grouped_output = []\n",
      "    num_groups = len(list)/size\n",
      "    #Notice that we are using a division of int which trunkcates bellow.\n",
      "    \n",
      "    subgroup = []\n",
      "    for i in range(0, len(list)):\n",
      "        # go through the entire list\n",
      "        subgroup.append(list[i])\n",
      "        \n",
      "        # add to subgroup list till it is the right length\n",
      "        if (i+1)/size == (i+1)*1.0/size:\n",
      "            #abusing datatypes to check if i is evenly divisible by size if it is add subgroup and reset it\n",
      "            \n",
      "            grouped_output.append(subgroup)\n",
      "            subgroup = []\n",
      "    \n",
      "    if subgroup == []:\n",
      "        #if there is no remainer just pass the output.  this is required to avoid adding an empty list to the end\n",
      "        return grouped_output\n",
      "    \n",
      "    else:\n",
      "        #if there is a remainer add it then pass the output.  \n",
      "        grouped_output.append(subgroup)\n",
      "        \n",
      "        return grouped_output        "
     ],
     "language": "python",
     "metadata": {},
     "outputs": [],
     "prompt_number": 8
    },
    {
     "cell_type": "code",
     "collapsed": false,
     "input": [
      "group([1, 2, 3, 4, 5, 6, 7, 8, 9], 3)"
     ],
     "language": "python",
     "metadata": {},
     "outputs": [
      {
       "metadata": {},
       "output_type": "pyout",
       "prompt_number": 9,
       "text": [
        "[[1, 2, 3], [4, 5, 6], [7, 8, 9]]"
       ]
      }
     ],
     "prompt_number": 9
    },
    {
     "cell_type": "code",
     "collapsed": false,
     "input": [
      "group([1, 2, 3, 4, 5, 6, 7, 8, 9], 4)"
     ],
     "language": "python",
     "metadata": {},
     "outputs": [
      {
       "metadata": {},
       "output_type": "pyout",
       "prompt_number": 10,
       "text": [
        "[[1, 2, 3, 4], [5, 6, 7, 8], [9]]"
       ]
      }
     ],
     "prompt_number": 10
    },
    {
     "cell_type": "code",
     "collapsed": false,
     "input": [
      "# map Python function\n",
      "\n",
      "def square(x):\n",
      "    y = x**2\n",
      "    return y\n",
      "\n",
      "a = [2, 10, 4, 3, 7]\n",
      "map(square, a)"
     ],
     "language": "python",
     "metadata": {},
     "outputs": [
      {
       "metadata": {},
       "output_type": "pyout",
       "prompt_number": 9,
       "text": [
        "[4, 100, 16, 9, 49]"
       ]
      }
     ],
     "prompt_number": 9
    },
    {
     "cell_type": "code",
     "collapsed": false,
     "input": [
      "a = [2, 10, 4, 3, 7]\n",
      "map(lambda x: x**2, a)"
     ],
     "language": "python",
     "metadata": {},
     "outputs": [
      {
       "metadata": {},
       "output_type": "pyout",
       "prompt_number": 10,
       "text": [
        "[4, 100, 16, 9, 49]"
       ]
      }
     ],
     "prompt_number": 10
    },
    {
     "cell_type": "markdown",
     "metadata": {},
     "source": [
      "#2.1.2 Sorting Lists"
     ]
    },
    {
     "cell_type": "markdown",
     "metadata": {},
     "source": [
      "###The behavior of sort method and sorted function is exactly same except that sorted returns a new list instead of modifying the given list."
     ]
    },
    {
     "cell_type": "code",
     "collapsed": false,
     "input": [
      "a = [2, 10, 4, 3, 7]\n",
      "sorted(a)"
     ],
     "language": "python",
     "metadata": {},
     "outputs": [
      {
       "metadata": {},
       "output_type": "pyout",
       "prompt_number": 11,
       "text": [
        "[2, 3, 4, 7, 10]"
       ]
      }
     ],
     "prompt_number": 11
    },
    {
     "cell_type": "code",
     "collapsed": false,
     "input": [
      "a = [2, 10, 4, 3, 7]\n",
      "a.sort()\n",
      "a"
     ],
     "language": "python",
     "metadata": {},
     "outputs": [
      {
       "metadata": {},
       "output_type": "pyout",
       "prompt_number": 12,
       "text": [
        "[2, 3, 4, 7, 10]"
       ]
      }
     ],
     "prompt_number": 12
    },
    {
     "cell_type": "code",
     "collapsed": false,
     "input": [
      "#We can optionally specify a function as sort key.\n",
      "#This sorts all the elements of the list based on the value of second element of each entry.\n",
      "\n",
      "a = [[2, 3], [4, 6], [6, 1]]\n",
      "a.sort(key=lambda x: x[1])\n",
      "a"
     ],
     "language": "python",
     "metadata": {},
     "outputs": [
      {
       "metadata": {},
       "output_type": "pyout",
       "prompt_number": 13,
       "text": [
        "[[6, 1], [2, 3], [4, 6]]"
       ]
      }
     ],
     "prompt_number": 13
    },
    {
     "cell_type": "markdown",
     "metadata": {},
     "source": [
      "###Problem 13: Write a function lensort to sort a list of strings based on length.\n",
      "    >>> lensort(['python', 'perl', 'java', 'c', 'haskell', 'ruby'])\n",
      "    ['c', 'perl', 'java', 'ruby', 'python', 'haskell']"
     ]
    },
    {
     "cell_type": "code",
     "collapsed": false,
     "input": [
      "#Problem 13\n",
      "\n",
      "def lensort(list):\n",
      "    list.sort(key=lambda x: len(x))\n",
      "    return list"
     ],
     "language": "python",
     "metadata": {},
     "outputs": [],
     "prompt_number": 14
    },
    {
     "cell_type": "code",
     "collapsed": false,
     "input": [
      "lensort(['python', 'perl', 'java', 'c', 'haskell', 'ruby'])"
     ],
     "language": "python",
     "metadata": {},
     "outputs": [
      {
       "metadata": {},
       "output_type": "pyout",
       "prompt_number": 15,
       "text": [
        "['c', 'perl', 'java', 'ruby', 'python', 'haskell']"
       ]
      }
     ],
     "prompt_number": 15
    },
    {
     "cell_type": "markdown",
     "metadata": {},
     "source": [
      "<font color=\"red\">\n",
      "\n",
      "Anthony: Would you help me with this problem.\n",
      "\n",
      "</font>\n",
      "\n",
      "Problem 14: Improve the unique function written in previous problems to take an optional key function as argument and use the return value of the key function to check for uniqueness.\n",
      "\n",
      "    >>> unique([\"python\", \"java\", \"Python\", \"Java\"], key=lambda s: s.lower())\n",
      "    [\"python\", \"java\"]"
     ]
    },
    {
     "cell_type": "code",
     "collapsed": false,
     "input": [
      "# Problem 14 Anthony\n",
      "\n",
      "def unique(list, key=lambda s:s):\n",
      "#using lambda to define a function that can be passed into this function with default being s=s\n",
      "#then coppying code from above with key used around list[i] so it can apply any function passed\n",
      "    \n",
      "    unique_elements = []\n",
      "    \n",
      "    for i in range(0, len(list)):\n",
      "        #replacing 1 with 0 so it actually looks at the first element in the list\n",
      "        \n",
      "        if key(list[i]) not in unique_elements:\n",
      "            unique_elements.append(key(list[i]))\n",
      "            #unique_elements.sort()\n",
      "            #apearently the unique elements should not be sorted to get the right results\n",
      "    \n",
      "    return unique_elements\n",
      "    "
     ],
     "language": "python",
     "metadata": {},
     "outputs": [],
     "prompt_number": 37
    },
    {
     "cell_type": "raw",
     "metadata": {},
     "source": [
      "I had to look up optional arguments in python I found an explaination here\n",
      "\n",
      "    http://www.diveintopython.net/power_of_introspection/optional_arguments.html\n",
      "\n",
      "also looked up what lambda actually is \n",
      "    \n",
      "    http://pythoncentral.io/lambda-function-syntax-inline-functions-in-python/"
     ]
    },
    {
     "cell_type": "code",
     "collapsed": false,
     "input": [
      "unique([\"python\", \"java\", \"Python\", \"Java\"], key=lambda s: s.lower())"
     ],
     "language": "python",
     "metadata": {},
     "outputs": [
      {
       "metadata": {},
       "output_type": "pyout",
       "prompt_number": 38,
       "text": [
        "['python', 'java']"
       ]
      }
     ],
     "prompt_number": 38
    },
    {
     "cell_type": "markdown",
     "metadata": {},
     "source": [
      "#2.2 Tuples"
     ]
    },
    {
     "cell_type": "code",
     "collapsed": false,
     "input": [],
     "language": "python",
     "metadata": {},
     "outputs": []
    },
    {
     "cell_type": "markdown",
     "metadata": {},
     "source": [
      "**Since parenthesis are also used for grouping, tuples with a single value are represented with an additional comma.**"
     ]
    },
    {
     "cell_type": "code",
     "collapsed": false,
     "input": [
      "a = (1)\n",
      "a"
     ],
     "language": "python",
     "metadata": {},
     "outputs": [
      {
       "metadata": {},
       "output_type": "pyout",
       "prompt_number": 16,
       "text": [
        "1"
       ]
      }
     ],
     "prompt_number": 16
    },
    {
     "cell_type": "code",
     "collapsed": false,
     "input": [
      "b = (1,)\n",
      "b"
     ],
     "language": "python",
     "metadata": {},
     "outputs": [
      {
       "metadata": {},
       "output_type": "pyout",
       "prompt_number": 17,
       "text": [
        "(1,)"
       ]
      }
     ],
     "prompt_number": 17
    },
    {
     "cell_type": "code",
     "collapsed": false,
     "input": [
      "b[0]"
     ],
     "language": "python",
     "metadata": {},
     "outputs": [
      {
       "metadata": {},
       "output_type": "pyout",
       "prompt_number": 18,
       "text": [
        "1"
       ]
      }
     ],
     "prompt_number": 18
    },
    {
     "cell_type": "markdown",
     "metadata": {},
     "source": [
      "#2.3 Sets\n",
      "\n",
      "Sets are unordered collection of **unique elements**."
     ]
    },
    {
     "cell_type": "code",
     "collapsed": false,
     "input": [
      "x = set([3, 1, 2, 1])\n",
      "x"
     ],
     "language": "python",
     "metadata": {},
     "outputs": [
      {
       "metadata": {},
       "output_type": "pyout",
       "prompt_number": 19,
       "text": [
        "{1, 2, 3}"
       ]
      }
     ],
     "prompt_number": 19
    },
    {
     "cell_type": "markdown",
     "metadata": {},
     "source": [
      "Python 2.7 introduced a new way of writing sets."
     ]
    },
    {
     "cell_type": "code",
     "collapsed": false,
     "input": [
      "x = {3, 1, 2, 1}\n",
      "x"
     ],
     "language": "python",
     "metadata": {},
     "outputs": [
      {
       "metadata": {},
       "output_type": "pyout",
       "prompt_number": 20,
       "text": [
        "{1, 2, 3}"
       ]
      }
     ],
     "prompt_number": 20
    },
    {
     "cell_type": "markdown",
     "metadata": {},
     "source": [
      "New elements can be added to a set using the add method."
     ]
    },
    {
     "cell_type": "code",
     "collapsed": false,
     "input": [
      "x = set([1, 2, 3])\n",
      "x.add(4)\n",
      "x"
     ],
     "language": "python",
     "metadata": {},
     "outputs": [
      {
       "metadata": {},
       "output_type": "pyout",
       "prompt_number": 21,
       "text": [
        "{1, 2, 3, 4}"
       ]
      }
     ],
     "prompt_number": 21
    },
    {
     "cell_type": "markdown",
     "metadata": {},
     "source": [
      "Just like lists, the existance of an element can be checked using the in operator. However, this operation is faster in sets compared to lists."
     ]
    },
    {
     "cell_type": "code",
     "collapsed": false,
     "input": [
      "x = set([1, 2, 3])\n",
      "\n",
      "print 1 in x\n",
      "print 5 in x"
     ],
     "language": "python",
     "metadata": {},
     "outputs": [
      {
       "output_type": "stream",
       "stream": "stdout",
       "text": [
        "True\n",
        "False\n"
       ]
      }
     ],
     "prompt_number": 22
    },
    {
     "cell_type": "markdown",
     "metadata": {},
     "source": [
      "###Problem 15: Reimplement the unique function implemented in the earlier examples using sets."
     ]
    },
    {
     "cell_type": "code",
     "collapsed": false,
     "input": [
      "def unique(list1):\n",
      "    new_list= list(set(list1))\n",
      "    return new_list\n",
      "\n",
      "#notice that since this function definition uses the Python function *list()* the argument of the function cannot be also colled \"list\""
     ],
     "language": "python",
     "metadata": {},
     "outputs": [],
     "prompt_number": 23
    },
    {
     "cell_type": "code",
     "collapsed": false,
     "input": [
      "unique([1, 2, 1, 3, 2, 5])"
     ],
     "language": "python",
     "metadata": {},
     "outputs": [
      {
       "metadata": {},
       "output_type": "pyout",
       "prompt_number": 24,
       "text": [
        "[1, 2, 3, 5]"
       ]
      }
     ],
     "prompt_number": 24
    },
    {
     "cell_type": "markdown",
     "metadata": {},
     "source": [
      "#2.4 Strings\n",
      "\n",
      "Strings also behave like lists in many ways. Length of a string can be found using built-in function len()."
     ]
    },
    {
     "cell_type": "code",
     "collapsed": false,
     "input": [
      "len(\"abrakadabra\")"
     ],
     "language": "python",
     "metadata": {},
     "outputs": [
      {
       "metadata": {},
       "output_type": "pyout",
       "prompt_number": 25,
       "text": [
        "11"
       ]
      }
     ],
     "prompt_number": 25
    },
    {
     "cell_type": "markdown",
     "metadata": {},
     "source": [
      "Indexing and slicing on strings behave similar to that of lists."
     ]
    },
    {
     "cell_type": "code",
     "collapsed": false,
     "input": [
      "a = \"helloworld\"\n",
      "print a[1]\n",
      "print a[-2]\n",
      "print a[1:5]\n",
      "print a[:5]\n",
      "print a[5:]\n",
      "print a[-2:]\n",
      "print a[:-2]\n",
      "print a[::-1]"
     ],
     "language": "python",
     "metadata": {},
     "outputs": [
      {
       "output_type": "stream",
       "stream": "stdout",
       "text": [
        "e\n",
        "l\n",
        "ello\n",
        "hello\n",
        "world\n",
        "ld\n",
        "hellowor\n",
        "dlrowolleh\n"
       ]
      }
     ],
     "prompt_number": 26
    },
    {
     "cell_type": "markdown",
     "metadata": {},
     "source": [
      "The in operator can be use to check if a string is present in another string."
     ]
    },
    {
     "cell_type": "code",
     "collapsed": false,
     "input": [
      "print 'hell' in 'hello'\n",
      "print 'full' in 'hello'\n",
      "print 'el' in 'hello'"
     ],
     "language": "python",
     "metadata": {},
     "outputs": [
      {
       "output_type": "stream",
       "stream": "stdout",
       "text": [
        "True\n",
        "False\n",
        "True\n"
       ]
      }
     ],
     "prompt_number": 1
    },
    {
     "cell_type": "markdown",
     "metadata": {},
     "source": [
      "There are many useful methods on strings.\n",
      "\n",
      "The split method splits a string using a delimiter. If no delimiter is specified, it uses any whitespace char as delimiter."
     ]
    },
    {
     "cell_type": "code",
     "collapsed": false,
     "input": [
      "print \"hello world\".split()\n",
      "print \"a,b,c\".split(',')"
     ],
     "language": "python",
     "metadata": {},
     "outputs": [
      {
       "output_type": "stream",
       "stream": "stdout",
       "text": [
        "['hello', 'world']\n",
        "['a', 'b', 'c']\n"
       ]
      }
     ],
     "prompt_number": 2
    },
    {
     "cell_type": "markdown",
     "metadata": {},
     "source": [
      "The join method joins a list of strings."
     ]
    },
    {
     "cell_type": "code",
     "collapsed": false,
     "input": [
      "\" \".join(['hello', 'world'])"
     ],
     "language": "python",
     "metadata": {},
     "outputs": [
      {
       "metadata": {},
       "output_type": "pyout",
       "prompt_number": 3,
       "text": [
        "'hello world'"
       ]
      }
     ],
     "prompt_number": 3
    },
    {
     "cell_type": "code",
     "collapsed": false,
     "input": [
      "','.join(['a', 'b', 'c'])"
     ],
     "language": "python",
     "metadata": {},
     "outputs": [
      {
       "metadata": {},
       "output_type": "pyout",
       "prompt_number": 4,
       "text": [
        "'a,b,c'"
       ]
      }
     ],
     "prompt_number": 4
    },
    {
     "cell_type": "markdown",
     "metadata": {},
     "source": [
      "The strip method returns a copy of the given string with leading and trailing whitespace removed. Optionally a string can be passed as argument to remove characters from that string instead of whitespace."
     ]
    },
    {
     "cell_type": "code",
     "collapsed": false,
     "input": [
      "print ' hello world\\n'.strip()\n",
      "print 'abcdefgh'.strip('abdh')"
     ],
     "language": "python",
     "metadata": {},
     "outputs": [
      {
       "output_type": "stream",
       "stream": "stdout",
       "text": [
        "hello world\n",
        "cdefg\n"
       ]
      }
     ],
     "prompt_number": 9
    },
    {
     "cell_type": "markdown",
     "metadata": {},
     "source": [
      "Python supports formatting values into strings. Although this can include very complicated expressions, the most basic usage is to insert values into a string with the %s placeholder."
     ]
    },
    {
     "cell_type": "code",
     "collapsed": false,
     "input": [
      "a = 'hello'\n",
      "b = 'python'\n",
      "\"%s %s\" % (a, b)"
     ],
     "language": "python",
     "metadata": {},
     "outputs": [
      {
       "metadata": {},
       "output_type": "pyout",
       "prompt_number": 10,
       "text": [
        "'hello python'"
       ]
      }
     ],
     "prompt_number": 10
    },
    {
     "cell_type": "code",
     "collapsed": false,
     "input": [
      "'Chapter %d: %s' % (2, 'Data Structures')"
     ],
     "language": "python",
     "metadata": {},
     "outputs": [
      {
       "metadata": {},
       "output_type": "pyout",
       "prompt_number": 11,
       "text": [
        "'Chapter 2: Data Structures'"
       ]
      }
     ],
     "prompt_number": 11
    },
    {
     "cell_type": "markdown",
     "metadata": {},
     "source": [
      "###Problem 16: Write a function extsort to sort a list of files based on extension.\n",
      "\n",
      "    >>> extsort(['a.c', 'a.py', 'b.py', 'bar.txt', 'foo.txt', 'x.c'])\n",
      "        ['a.c', 'x.c', 'a.py', 'b.py', 'bar.txt', 'foo.txt']\n",
      "        \n",
      "<font color=\"red\">\n",
      "Anthony: I am proud of how I figure this problem out.\n",
      "</font>"
     ]
    },
    {
     "cell_type": "markdown",
     "metadata": {},
     "source": [
      "<font color=\"green\">Ramon: That is pretty smooth. Also I finnally figured out what I was doing wrong trying to format text in here.\n",
      "\n",
      "How did you discover the partition function?</font>"
     ]
    },
    {
     "cell_type": "code",
     "collapsed": false,
     "input": [
      "#Illustration of the .partition method:\n",
      "text = 'some string... this part will be removed.'\n",
      "head, sep, tail = text.partition('...')\n",
      "head"
     ],
     "language": "python",
     "metadata": {},
     "outputs": [
      {
       "metadata": {},
       "output_type": "pyout",
       "prompt_number": 28,
       "text": [
        "'some string'"
       ]
      }
     ],
     "prompt_number": 28
    },
    {
     "cell_type": "code",
     "collapsed": false,
     "input": [
      "def suffix(text):\n",
      "    head, sep, tail = text.partition('.')\n",
      "    return tail"
     ],
     "language": "python",
     "metadata": {},
     "outputs": [],
     "prompt_number": 20
    },
    {
     "cell_type": "code",
     "collapsed": false,
     "input": [
      "def extsort(list):\n",
      "    list.sort(key=lambda x: suffix(x))\n",
      "    return list"
     ],
     "language": "python",
     "metadata": {},
     "outputs": [],
     "prompt_number": 33
    },
    {
     "cell_type": "code",
     "collapsed": false,
     "input": [
      "extsort(['a.c', 'a.py', 'b.py', 'bar.txt', 'foo.txt', 'x.c'])"
     ],
     "language": "python",
     "metadata": {},
     "outputs": [
      {
       "metadata": {},
       "output_type": "pyout",
       "prompt_number": 34,
       "text": [
        "['a.c', 'x.c', 'a.py', 'b.py', 'bar.txt', 'foo.txt']"
       ]
      }
     ],
     "prompt_number": 34
    },
    {
     "cell_type": "markdown",
     "metadata": {},
     "source": [
      "#2.5. Working With Files"
     ]
    },
    {
     "cell_type": "markdown",
     "metadata": {},
     "source": [
      "Python provides a built-in function open to open a file, which returns a file object.\n",
      "\n",
      "    f = open('foo.txt', 'r') # open a file in read mode\n",
      "    f = open('foo.txt', 'w') # open a file in write mode\n",
      "    f = open('foo.txt', 'a') # open a file in append mode\n",
      "    \n",
      "The second argument to open is optional, which defaults to 'r' when not specified.\n",
      "\n",
      "On windows 'rb', 'wb', 'ab' should be used to open a binary file in read, write and append mode respectively."
     ]
    },
    {
     "cell_type": "code",
     "collapsed": false,
     "input": [
      "f = open('foo.txt', 'r')\n",
      "f"
     ],
     "language": "python",
     "metadata": {},
     "outputs": [
      {
       "metadata": {},
       "output_type": "pyout",
       "prompt_number": 47,
       "text": [
        "<open file 'foo.txt', mode 'r' at 0x7f7e618cb6f0>"
       ]
      }
     ],
     "prompt_number": 47
    },
    {
     "cell_type": "markdown",
     "metadata": {},
     "source": [
      "Easiest way to read contents of a file is by using the read method."
     ]
    },
    {
     "cell_type": "code",
     "collapsed": false,
     "input": [
      "open('foo.txt').read()"
     ],
     "language": "python",
     "metadata": {},
     "outputs": [
      {
       "metadata": {},
       "output_type": "pyout",
       "prompt_number": 48,
       "text": [
        "\"First line of Ramon's text file\\nSecond line of Ramon's text file\\nThird line of Ramon's text file\""
       ]
      }
     ],
     "prompt_number": 48
    },
    {
     "cell_type": "code",
     "collapsed": false,
     "input": [
      "open('foo.txt').readlines()"
     ],
     "language": "python",
     "metadata": {},
     "outputs": [
      {
       "metadata": {},
       "output_type": "pyout",
       "prompt_number": 49,
       "text": [
        "[\"First line of Ramon's text file\\n\",\n",
        " \"Second line of Ramon's text file\\n\",\n",
        " \"Third line of Ramon's text file\"]"
       ]
      }
     ],
     "prompt_number": 49
    },
    {
     "cell_type": "code",
     "collapsed": false,
     "input": [
      "#Anthony tests\n",
      "f2 = open('foo2.txt', 'rb')\n",
      "f2"
     ],
     "language": "python",
     "metadata": {},
     "outputs": [
      {
       "metadata": {},
       "output_type": "pyout",
       "prompt_number": 24,
       "text": [
        "<open file 'foo2.txt', mode 'rb' at 0x7f7e618cb0c0>"
       ]
      }
     ],
     "prompt_number": 24
    },
    {
     "cell_type": "code",
     "collapsed": false,
     "input": [
      "open('foo2.txt').read()"
     ],
     "language": "python",
     "metadata": {},
     "outputs": [
      {
       "metadata": {},
       "output_type": "pyout",
       "prompt_number": 25,
       "text": [
        "'testing \\nmore testing '"
       ]
      }
     ],
     "prompt_number": 25
    },
    {
     "cell_type": "code",
     "collapsed": false,
     "input": [
      "open('foo2.txt').readlines()"
     ],
     "language": "python",
     "metadata": {},
     "outputs": [
      {
       "metadata": {},
       "output_type": "pyout",
       "prompt_number": 65,
       "text": [
        "['testing \\n', 'more testing ']"
       ]
      }
     ],
     "prompt_number": 65
    },
    {
     "cell_type": "markdown",
     "metadata": {},
     "source": [
      "<font color=\"red\">\n",
      "Anthony: Why do the last three commands not show the content of the file foo.txt?\n",
      "</font>\n",
      "\n",
      "    Please don't spend more that a half an hour on this because things work when I run the\n",
      "    Jupyter notebook in my computer. So my question is why is it not working when I an running\n",
      "    the notebook on Wakari.\n",
      "    \n",
      "<font color=\"green\">Ramon: I think it was overwriting the file with nothing every time you ran the first comand here.  The following lines showed the empty file was empty.</font>"
     ]
    },
    {
     "cell_type": "markdown",
     "metadata": {},
     "source": []
    },
    {
     "cell_type": "markdown",
     "metadata": {},
     "source": [
      "Contents of a file can be read line-wise using readline and readlines methods. The readline method returns empty string when there is nothing more to read in a file."
     ]
    },
    {
     "cell_type": "code",
     "collapsed": false,
     "input": [
      "open('foo.txt').readlines()"
     ],
     "language": "python",
     "metadata": {},
     "outputs": [
      {
       "metadata": {},
       "output_type": "pyout",
       "prompt_number": 50,
       "text": [
        "[\"First line of Ramon's text file\\n\",\n",
        " \"Second line of Ramon's text file\\n\",\n",
        " \"Third line of Ramon's text file\"]"
       ]
      }
     ],
     "prompt_number": 50
    },
    {
     "cell_type": "code",
     "collapsed": false,
     "input": [
      "f.readline()"
     ],
     "language": "python",
     "metadata": {},
     "outputs": [
      {
       "metadata": {},
       "output_type": "pyout",
       "prompt_number": 51,
       "text": [
        "\"First line of Ramon's text file\\n\""
       ]
      }
     ],
     "prompt_number": 51
    },
    {
     "cell_type": "code",
     "collapsed": false,
     "input": [
      "f.readline()"
     ],
     "language": "python",
     "metadata": {},
     "outputs": [
      {
       "metadata": {},
       "output_type": "pyout",
       "prompt_number": 52,
       "text": [
        "\"Second line of Ramon's text file\\n\""
       ]
      }
     ],
     "prompt_number": 52
    },
    {
     "cell_type": "code",
     "collapsed": false,
     "input": [
      "f.readline()"
     ],
     "language": "python",
     "metadata": {},
     "outputs": [
      {
       "metadata": {},
       "output_type": "pyout",
       "prompt_number": 53,
       "text": [
        "\"Third line of Ramon's text file\""
       ]
      }
     ],
     "prompt_number": 53
    },
    {
     "cell_type": "markdown",
     "metadata": {},
     "source": [
      "The write method is used to write data to a file opened in write or append mode."
     ]
    },
    {
     "cell_type": "code",
     "collapsed": false,
     "input": [
      "f = open('foo2.txt', 'w')\n",
      "f.write('a\\nb\\nc')\n",
      "f.close()"
     ],
     "language": "python",
     "metadata": {},
     "outputs": [],
     "prompt_number": 9
    },
    {
     "cell_type": "code",
     "collapsed": false,
     "input": [
      "f = open('foo2.txt', 'a')\n",
      "#from anthony- changed a '.' to ' = 'this seened to be the intended functionality\n",
      "f.write('d\\n')\n",
      "f.close()"
     ],
     "language": "python",
     "metadata": {},
     "outputs": [],
     "prompt_number": 24
    },
    {
     "cell_type": "markdown",
     "metadata": {},
     "source": [
      "The writelines method is convenient to use when the data is available as a list of lines."
     ]
    },
    {
     "cell_type": "code",
     "collapsed": false,
     "input": [
      "f = open('foo2.txt', 'w')\n",
      "#from anthony- added ', 'w''this seened to be the intended functionality\n",
      "f.writelines(['a\\n', 'b\\n', 'c\\n'])\n",
      "f.close()"
     ],
     "language": "python",
     "metadata": {},
     "outputs": [],
     "prompt_number": 25
    },
    {
     "cell_type": "markdown",
     "metadata": {},
     "source": [
      "<font color=\"red\">\n",
      "Anthony: I am doing exactly the same thing that is in the lesson, but for some reason I am getting the error messages above. Please see if you can figure out why and explain it to me?\n",
      "</font>\n",
      "\n",
      "</p>\n",
      "\n",
      "<font color=\"green\">Ramon: I think there was a typo in the workbook as the listed code does not work the way it was shown.  it basically said open the file in write mode then try to open the opened file in append mode.  Naturally there is no way to open an already open file.  \n",
      "<br>\n",
      "\n",
      "The next problem was leaving a default open comand when it was intended to write to it.  The default is read only.  \n",
      "</font>"
     ]
    },
    {
     "cell_type": "markdown",
     "metadata": {},
     "source": [
      "#2.5.1. Example: Word Count\n",
      "Lets try to compute the number of characters, words and lines in a file.\n",
      "\n",
      "Number of characters in a file is same as the length of its contents."
     ]
    },
    {
     "cell_type": "code",
     "collapsed": false,
     "input": [
      "def charcount(filename):\n",
      "    return len(open(filename).read())"
     ],
     "language": "python",
     "metadata": {},
     "outputs": [],
     "prompt_number": 75
    },
    {
     "cell_type": "code",
     "collapsed": false,
     "input": [
      "charcount('foo.txt')"
     ],
     "language": "python",
     "metadata": {},
     "outputs": [
      {
       "metadata": {},
       "output_type": "pyout",
       "prompt_number": 76,
       "text": [
        "96"
       ]
      }
     ],
     "prompt_number": 76
    },
    {
     "cell_type": "markdown",
     "metadata": {},
     "source": [
      "Number of words in a file can be found by splitting the contents of the file."
     ]
    },
    {
     "cell_type": "code",
     "collapsed": false,
     "input": [
      "def wordcount(filename):\n",
      "    return len(open(filename).read().split())"
     ],
     "language": "python",
     "metadata": {},
     "outputs": [],
     "prompt_number": 77
    },
    {
     "cell_type": "code",
     "collapsed": false,
     "input": [
      "wordcount('foo.txt')"
     ],
     "language": "python",
     "metadata": {},
     "outputs": [
      {
       "metadata": {},
       "output_type": "pyout",
       "prompt_number": 78,
       "text": [
        "18"
       ]
      }
     ],
     "prompt_number": 78
    },
    {
     "cell_type": "markdown",
     "metadata": {},
     "source": [
      "Number of lines in a file can be found from readlines method."
     ]
    },
    {
     "cell_type": "code",
     "collapsed": false,
     "input": [
      "def linecount(filename):\n",
      "    return len(open(filename).readlines())"
     ],
     "language": "python",
     "metadata": {},
     "outputs": [],
     "prompt_number": 79
    },
    {
     "cell_type": "code",
     "collapsed": false,
     "input": [
      "linecount('foo.txt')"
     ],
     "language": "python",
     "metadata": {},
     "outputs": [
      {
       "metadata": {},
       "output_type": "pyout",
       "prompt_number": 80,
       "text": [
        "3"
       ]
      }
     ],
     "prompt_number": 80
    },
    {
     "cell_type": "markdown",
     "metadata": {},
     "source": [
      "###Problem 17: Write a program reverse.py to print lines of a file in reverse order.\n",
      "\n",
      "    $ cat she.txt\n",
      "    She sells seashells on the seashore;\n",
      "    The shells that she sells are seashells I'm sure.\n",
      "    So if she sells seashells on the seashore,\n",
      "    I'm sure that the shells are seashore shells.\n",
      "\n",
      "    $ python reverse.py she.txt\n",
      "    I'm sure that the shells are seashore shells.\n",
      "    So if she sells seashells on the seashore,\n",
      "    The shells that she sells are seashells I'm sure.\n",
      "    She sells seashells on the seashore;"
     ]
    },
    {
     "cell_type": "code",
     "collapsed": false,
     "input": [
      "#Anthony's problem 17 solution:\n",
      "#import argparse\n",
      "#parser = argparse.ArgumentParser()\n",
      "#parser.add_argument(\"file\", help = \"input a file to display the file's lines in reverse\")\n",
      "#args = parser.parse_args()\n",
      "#f = open(args.file)\n",
      "f = open('she.txt')\n",
      "#The above line should be comented out and the lines comented in to make it function as a program called\n",
      "#by python reverse.py she.txt\n",
      "#on the windows power shell as seen in problem17Screenshot_83.png\n",
      "out = []\n",
      "for line in f:\n",
      "    out.append(line)\n",
      "f.close()\n",
      "for t in range(0,len(out)):\n",
      "    if '\\n' in out[len(out)-t-1]:\n",
      "        out[len(out)-t-1],sep,empty =out[len(out)-t-1].partition('\\n')\n",
      "    print(out[len(out)-t-1])\n"
     ],
     "language": "python",
     "metadata": {},
     "outputs": [
      {
       "output_type": "stream",
       "stream": "stdout",
       "text": [
        "I'm sure that the shells are seashore shells.\n",
        "So if she sells seashells on the seashore,\n",
        "The shells that she sells are seashells I'm sure.\n",
        "She sells seashells on the seashore;\n"
       ]
      }
     ],
     "prompt_number": 3
    },
    {
     "cell_type": "markdown",
     "metadata": {},
     "source": [
      "I think this one is trying to get me to do this.  See problem17Screenshot for this working."
     ]
    },
    {
     "cell_type": "markdown",
     "metadata": {},
     "source": [
      "###Problem 18: Write a program to print each line of a file in reverse order."
     ]
    },
    {
     "cell_type": "code",
     "collapsed": false,
     "input": [
      "#Anthony's problem 18 solution:\n",
      "#import argparse\n",
      "#parser = argparse.ArgumentParser()\n",
      "#parser.add_argument(\"file\", help = \"input a file to display the file's lines in reverse\")\n",
      "#args = parser.parse_args()\n",
      "#f = open(args.file)\n",
      "f = open('she.txt')\n",
      "#The above line should be comented out and the lines comented in to make it function as a program called\n",
      "#by python reverse.py she.txt\n",
      "#on the windows power shell as seen in problem17Screenshot_83.png\n",
      "out = []\n",
      "for line in f:\n",
      "    out.append(line)\n",
      "f.close()\n",
      "for t in range(0,len(out)):\n",
      "    if '\\n' in out[t]:\n",
      "        out[t],sep,empty =out[t].partition('\\n')\n",
      "    temp=[]\n",
      "    for i in range(0,len(out[t])):\n",
      "        temp.append(out[t][len(out[t])-i-1])\n",
      "    out[t] = ''.join(temp)\n",
      "    print(out[t])\n"
     ],
     "language": "python",
     "metadata": {},
     "outputs": [
      {
       "output_type": "stream",
       "stream": "stdout",
       "text": [
        ";erohsaes eht no sllehsaes slles ehS\n",
        ".erus m'I sllehsaes era slles ehs taht sllehs ehT\n",
        ",erohsaes eht no sllehsaes slles ehs fi oS\n",
        ".sllehs erohsaes era sllehs eht taht erus m'I\n"
       ]
      }
     ],
     "prompt_number": 14
    },
    {
     "cell_type": "markdown",
     "metadata": {},
     "source": [
      "###Problem 19: Implement unix commands *head* and *tail*. The head and tail commands take a file as argument and prints its first and last 10 lines of the file respectively."
     ]
    },
    {
     "cell_type": "code",
     "collapsed": false,
     "input": [
      "#Anthony's problem 19 solution:\n",
      "#first version of head that takes a file name as argument\n",
      "def head(file):\n",
      "    f = open(file)\n",
      "    list_lines = []\n",
      "    for line in f:\n",
      "        list_lines.append(line)\n",
      "    f.close()\n",
      "    \n",
      "    for i in range(0,min(len(list_lines),9)):\n",
      "        list_lines[i],extra,extra2 = list_lines[i].partition('\\n')\n",
      "        print(list_lines[i])\n"
     ],
     "language": "python",
     "metadata": {},
     "outputs": [],
     "prompt_number": 5
    },
    {
     "cell_type": "code",
     "collapsed": false,
     "input": [
      "head('she.txt')"
     ],
     "language": "python",
     "metadata": {},
     "outputs": [
      {
       "output_type": "stream",
       "stream": "stdout",
       "text": [
        "She sells seashells on the seashore;\n",
        "The shells that she sells are seashells I'm sure.\n",
        "So if she sells seashells on the seashore,\n",
        "I'm sure that the shells are seashore shells.\n"
       ]
      }
     ],
     "prompt_number": 6
    },
    {
     "cell_type": "code",
     "collapsed": false,
     "input": [
      "#Anthony's problem 19 solution:\n",
      "#second version of head that takes a file pointer as argument\n",
      "def head(file):\n",
      "    \n",
      "    list_lines = []\n",
      "    for line in file:\n",
      "        list_lines.append(line)    \n",
      "    for i in range(0,min(len(list_lines),10)):\n",
      "        list_lines[i],extra,extra2 = list_lines[i].partition('\\n')\n",
      "        print(list_lines[i])\n"
     ],
     "language": "python",
     "metadata": {},
     "outputs": [],
     "prompt_number": 14
    },
    {
     "cell_type": "code",
     "collapsed": false,
     "input": [
      "f_for_head = open('reverse.py')\n",
      "head(f_for_head)\n",
      "f_for_head.close()"
     ],
     "language": "python",
     "metadata": {},
     "outputs": [
      {
       "output_type": "stream",
       "stream": "stdout",
       "text": [
        "import argparse\r\n",
        "parser = argparse.ArgumentParser()\r\n",
        "parser.add_argument(\"file\", help = \"input a file to display the file's lines in reverse\")\r\n",
        "args = parser.parse_args()\r\n",
        "f = open(args.file)\r\n",
        "out = []\r\n",
        "for line in f:\r\n",
        "    out.append(line)\r\n",
        "f.close()\r\n",
        "for t in range(0,len(out)):\r\n"
       ]
      },
      {
       "metadata": {},
       "output_type": "pyout",
       "prompt_number": 15,
       "text": [
        "<function close>"
       ]
      }
     ],
     "prompt_number": 15
    },
    {
     "cell_type": "code",
     "collapsed": false,
     "input": [
      "#Anthony's problem 19 solution:\n",
      "#first version of tail that takes a file name as argument\n",
      "def tail(file):\n",
      "    f = open(file)\n",
      "    list_lines = []\n",
      "    for line in f:\n",
      "        list_lines.append(line)\n",
      "    f.close()\n",
      "    \n",
      "    for i in range(max(0,len(list_lines)-10),len(list_lines)):\n",
      "        list_lines[i],extra,extra2 = list_lines[i].partition('\\n')\n",
      "        print(list_lines[i])\n"
     ],
     "language": "python",
     "metadata": {},
     "outputs": [],
     "prompt_number": 16
    },
    {
     "cell_type": "code",
     "collapsed": false,
     "input": [
      "tail('reverse.py')"
     ],
     "language": "python",
     "metadata": {},
     "outputs": [
      {
       "output_type": "stream",
       "stream": "stdout",
       "text": [
        "args = parser.parse_args()\r\n",
        "f = open(args.file)\r\n",
        "out = []\r\n",
        "for line in f:\r\n",
        "    out.append(line)\r\n",
        "f.close()\r\n",
        "for t in range(0,len(out)):\r\n",
        "    if '\\n' in out[len(out)-t-1]:\r\n",
        "        out[len(out)-t-1],sep,empty =out[len(out)-t-1].partition('\\n')\r\n",
        "    print(out[len(out)-t-1])\r\n"
       ]
      }
     ],
     "prompt_number": 17
    },
    {
     "cell_type": "code",
     "collapsed": false,
     "input": [
      "#Anthony's problem 19 solution:\n",
      "#second version of tail that takes a file pointer as argument\n",
      "def tail(file):\n",
      "    \n",
      "    list_lines = []\n",
      "    for line in file:\n",
      "        list_lines.append(line)  \n",
      "    for i in range(max(0,len(list_lines)-10),len(list_lines)):\n",
      "        list_lines[i],extra,extra2 = list_lines[i].partition('\\n')\n",
      "        print(list_lines[i])"
     ],
     "language": "python",
     "metadata": {},
     "outputs": [],
     "prompt_number": 21
    },
    {
     "cell_type": "code",
     "collapsed": false,
     "input": [
      "f_for_tail = open('reverse.py')\n",
      "tail(f_for_tail)\n",
      "f_for_tail.close()"
     ],
     "language": "python",
     "metadata": {},
     "outputs": [
      {
       "output_type": "stream",
       "stream": "stdout",
       "text": [
        "args = parser.parse_args()\r\n",
        "f = open(args.file)\r\n",
        "out = []\r\n",
        "for line in f:\r\n",
        "    out.append(line)\r\n",
        "f.close()\r\n",
        "for t in range(0,len(out)):\r\n",
        "    if '\\n' in out[len(out)-t-1]:\r\n",
        "        out[len(out)-t-1],sep,empty =out[len(out)-t-1].partition('\\n')\r\n",
        "    print(out[len(out)-t-1])\r\n"
       ]
      }
     ],
     "prompt_number": 22
    },
    {
     "cell_type": "markdown",
     "metadata": {},
     "source": [
      "###Problem 20: Implement unix command grep. The grep command takes a string and a file as arguments and prints all lines in the file which contain the specified string.\n",
      "\n",
      "    $ python grep.py she.txt sure\n",
      "    The shells that she sells are seashells I'm sure.\n",
      "    I'm sure that the shells are seashore shells."
     ]
    },
    {
     "cell_type": "code",
     "collapsed": false,
     "input": [],
     "language": "python",
     "metadata": {},
     "outputs": []
    },
    {
     "cell_type": "code",
     "collapsed": false,
     "input": [
      "#Anthony's problem 20 solution:\n",
      "#import argparse\n",
      "#parser = argparse.ArgumentParser()\n",
      "#parser.add_argument(\"file\", help = \"input a file to display the file's lines in reverse\")\n",
      "#parser.add_argument(\"key\", help = \"input a string to search for\")\n",
      "#args = parser.parse_args()\n",
      "#f = open(args.file)\n",
      "#skey = args.key\n",
      "f = open('she.txt')\n",
      "skey = 'sure'\n",
      "#The above lines should be comented out and the lines comented in to make it function as a program called\n",
      "#by python grep.py she.txt sure\n",
      "list_lines = []\n",
      "for line in f:\n",
      "    list_lines.append(line)  \n",
      "f.close()\n",
      "for i in range(0,len(list_lines)):\n",
      "    list_lines[i],extra,extra2 = list_lines[i].partition('\\n')\n",
      "    if skey in list_lines[i]:\n",
      "        print(list_lines[i])"
     ],
     "language": "python",
     "metadata": {},
     "outputs": [
      {
       "output_type": "stream",
       "stream": "stdout",
       "text": [
        "The shells that she sells are seashells I'm sure.\n",
        "I'm sure that the shells are seashore shells.\n"
       ]
      }
     ],
     "prompt_number": 23
    },
    {
     "cell_type": "code",
     "collapsed": false,
     "input": [],
     "language": "python",
     "metadata": {},
     "outputs": []
    },
    {
     "cell_type": "markdown",
     "metadata": {},
     "source": [
      "###Problem 21: Write a program wrap.py that takes filename and width as aruguments and wraps the lines longer than width.\n",
      "\n",
      "    $ python wrap.py she.txt 30\n",
      "    I'm sure that the shells are s\n",
      "    eashore shells.\n",
      "    So if she sells seashells on t\n",
      "    he seashore,\n",
      "    The shells that she sells are\n",
      "    seashells I'm sure.\n",
      "    She sells seashells on the sea\n",
      "    shore;"
     ]
    },
    {
     "cell_type": "code",
     "collapsed": false,
     "input": [
      "#Anthony's problem 21 solution:\n",
      "#import argparse\n",
      "#parser = argparse.ArgumentParser()\n",
      "#parser.add_argument(\"file\", help = \"input a file to display the file's lines in reverse\")\n",
      "#parser.add_argument(\"length\", help = \"input a int for the length\", type=int)\n",
      "#args = parser.parse_args()\n",
      "#f = open(args.file)\n",
      "#wrap_l = args.length\n",
      "f = open('she.txt')\n",
      "wrap_l = 30\n",
      "#The above lines should be comented out and the lines comented in to make it function as a program called\n",
      "#by python wrap.py she.txt 30\n",
      "list_lines = []\n",
      "out = []\n",
      "for line in f:\n",
      "    list_lines.append(line)  \n",
      "f.close()\n",
      "for i in range(0,len(list_lines)):\n",
      "    list_lines[i],extra,extra2 = list_lines[i].partition('\\n')\n",
      "    if len(list_lines[i])>wrap_l:\n",
      "        out.append(list_lines[i][:wrap_l])\n",
      "        out.append(list_lines[i][wrap_l:])\n",
      "        print(list_lines[i][:wrap_l])\n",
      "        print(list_lines[i][wrap_l:])\n",
      "    else:\n",
      "       out.append(list_lines[i])\n",
      "       print(list_lines[i]) \n"
     ],
     "language": "python",
     "metadata": {},
     "outputs": [
      {
       "output_type": "stream",
       "stream": "stdout",
       "text": [
        "She sells seashells on the sea\n",
        "shore;\n",
        "The shells that she sells are \n",
        "seashells I'm sure.\n",
        "So if she sells seashells on t\n",
        "he seashore,\n",
        "I'm sure that the shells are s\n",
        "eashore shells.\n"
       ]
      }
     ],
     "prompt_number": 25
    },
    {
     "cell_type": "markdown",
     "metadata": {},
     "source": [
      "###Problem 22: The above wrap program is not so nice because it is breaking the line at middle of any word. Can you write a new program wordwrap.py that works like wrap.py, but breaks the line only at the word boundaries?\n",
      "\n",
      "    $ python wordwrap.py she.txt 30\n",
      "    I'm sure that the shells are\n",
      "    seashore shells.\n",
      "    So if she sells seashells on\n",
      "    the seashore,\n",
      "    The shells that she sells are\n",
      "    seashells I'm sure.\n",
      "    She sells seashells on the\n",
      "    seashore;"
     ]
    },
    {
     "cell_type": "code",
     "collapsed": false,
     "input": [
      "#Anthony's problem 22 solution:\n",
      "#import argparse\n",
      "#parser = argparse.ArgumentParser()\n",
      "#parser.add_argument(\"file\", help = \"input a file to display the file's lines in reverse\")\n",
      "#parser.add_argument(\"length\", help = \"input a int for the length\", type=int)\n",
      "#args = parser.parse_args()\n",
      "#f = open(args.file)\n",
      "#wrap_l = args.length\n",
      "f = open('she.txt')\n",
      "wrap_l = 30\n",
      "#The above lines should be comented out and the lines comented in to make it function as a program called\n",
      "#by python wrap.py she.txt 30\n",
      "list_lines = []\n",
      "temp = []\n",
      "out = []\n",
      "for line in f:\n",
      "    list_lines.append(line)  \n",
      "f.close()\n",
      "for i in range(0,len(list_lines)):\n",
      "    list_lines[i],extra,extra2 = list_lines[i].partition('\\n')\n",
      "    if len(list_lines[i])>wrap_l:\n",
      "        temp = list_lines[i].split()\n",
      "        temp2=''\n",
      "        for t in range(0,len(temp)):\n",
      "            if len(temp2)+len(temp[t])<wrap_l:\n",
      "                temp2= \"\".join([temp2,temp[t]])\n",
      "                temp2= \"\".join([temp2,' '])\n",
      "            else:\n",
      "                out.append(temp2)\n",
      "                print(temp2)\n",
      "                temp2 = temp[t]\n",
      "                temp2= \"\".join([temp2,' '])\n",
      "        out.append(temp2)\n",
      "        print(temp2)\n",
      "        \n",
      "    else:\n",
      "       out.append(list_lines[i])\n",
      "       print(list_lines[i]) \n",
      "#print(out)"
     ],
     "language": "python",
     "metadata": {},
     "outputs": [
      {
       "output_type": "stream",
       "stream": "stdout",
       "text": [
        "She sells seashells on the \n",
        "seashore; \n",
        "The shells that she sells are \n",
        "seashells I'm sure. \n",
        "So if she sells seashells on \n",
        "the seashore, \n",
        "I'm sure that the shells are \n",
        "seashore shells. \n"
       ]
      }
     ],
     "prompt_number": 35
    },
    {
     "cell_type": "markdown",
     "metadata": {},
     "source": [
      "###Problem 23: Write a program center_align.py to center align all lines in the given file.\n",
      "\n",
      "    $ python center_align.py she.txt\n",
      "      I'm sure that the shells are seashore shells.\n",
      "        So if she sells seashells on the seashore,\n",
      "    The shells that she sells are seashells I'm sure.\n",
      "           She sells seashells on the seashore;"
     ]
    },
    {
     "cell_type": "code",
     "collapsed": false,
     "input": [
      "#Anthony's problem 23 solution:\n",
      "#import argparse\n",
      "#parser = argparse.ArgumentParser()\n",
      "#parser.add_argument(\"file\", help = \"input a file to display the file's lines centered\")\n",
      "#args = parser.parse_args()\n",
      "#f = open(args.file)\n",
      "#wrap_l = args.length\n",
      "f = open('she.txt')\n",
      "#The above lines should be comented out and the lines comented in to make it function as a program called\n",
      "#by python center_align.py she.txt\n",
      "list_lines = []\n",
      "line_lens = []\n",
      "out = []\n",
      "for line in f:\n",
      "    list_lines.append(line)  \n",
      "f.close()\n",
      "for i in range(0,len(list_lines)):\n",
      "    line_lens.append(len(list_lines[i]))\n",
      "    list_lines[i]=list_lines[i].strip()\n",
      "for i in range(0,len(list_lines)):\n",
      "    for spaces in range(0,(max(line_lens)-len(list_lines[i]))/2):\n",
      "        list_lines[i]=''.join([' ',list_lines[i],' '])\n",
      "    print(list_lines[i])\n",
      "    out.append(list_lines[i])"
     ],
     "language": "python",
     "metadata": {},
     "outputs": [
      {
       "output_type": "stream",
       "stream": "stdout",
       "text": [
        "       She sells seashells on the seashore;       \n",
        "The shells that she sells are seashells I'm sure.\n",
        "    So if she sells seashells on the seashore,    \n",
        "  I'm sure that the shells are seashore shells.  \n"
       ]
      }
     ],
     "prompt_number": 41
    },
    {
     "cell_type": "markdown",
     "metadata": {},
     "source": [
      "#2.6. List Comprehensions\n",
      "\n",
      "List Comprehensions provide a concise way of creating lists. Many times a complex task can be modelled in a single line.\n",
      "\n",
      "Here are some simple examples for transforming a list."
     ]
    },
    {
     "cell_type": "code",
     "collapsed": false,
     "input": [],
     "language": "python",
     "metadata": {},
     "outputs": []
    },
    {
     "cell_type": "code",
     "collapsed": false,
     "input": [
      "a = range(10)\n",
      "print a\n",
      "print [x for x in a]\n",
      "print [x*x for x in a]\n",
      "print [x+1 for x in a]"
     ],
     "language": "python",
     "metadata": {},
     "outputs": [
      {
       "output_type": "stream",
       "stream": "stdout",
       "text": [
        "[0, 1, 2, 3, 4, 5, 6, 7, 8, 9]\n",
        "[0, 1, 2, 3, 4, 5, 6, 7, 8, 9]\n",
        "[0, 1, 4, 9, 16, 25, 36, 49, 64, 81]\n",
        "[1, 2, 3, 4, 5, 6, 7, 8, 9, 10]\n"
       ]
      }
     ],
     "prompt_number": 30
    },
    {
     "cell_type": "markdown",
     "metadata": {},
     "source": [
      "It is also possible to filter a list using if inside a list comprehension."
     ]
    },
    {
     "cell_type": "code",
     "collapsed": false,
     "input": [
      "a = range(10)\n",
      "print [x for x in a if x % 2 == 0]\n",
      "print [x*x for x in a if x%2 == 0]"
     ],
     "language": "python",
     "metadata": {},
     "outputs": [
      {
       "output_type": "stream",
       "stream": "stdout",
       "text": [
        "[0, 2, 4, 6, 8]\n",
        "[0, 4, 16, 36, 64]\n"
       ]
      }
     ],
     "prompt_number": 31
    },
    {
     "cell_type": "markdown",
     "metadata": {},
     "source": [
      "It is possible to iterate over multiple lists using the built-in function zip."
     ]
    },
    {
     "cell_type": "code",
     "collapsed": false,
     "input": [
      "a = [1, 2, 3, 4]\n",
      "b = [2, 3, 5, 7]\n",
      "print zip(a, b)\n",
      "[x+y for x, y in zip(a, b)]"
     ],
     "language": "python",
     "metadata": {},
     "outputs": [
      {
       "output_type": "stream",
       "stream": "stdout",
       "text": [
        "[(1, 2), (2, 3), (3, 5), (4, 7)]\n"
       ]
      },
      {
       "metadata": {},
       "output_type": "pyout",
       "prompt_number": 33,
       "text": [
        "[3, 5, 8, 11]"
       ]
      }
     ],
     "prompt_number": 33
    },
    {
     "cell_type": "markdown",
     "metadata": {},
     "source": [
      "we can use multiple for clauses in single list comprehension."
     ]
    },
    {
     "cell_type": "code",
     "collapsed": false,
     "input": [
      "print [(x, y) for x in range(5) for y in range(5) if (x+y)%2 == 0]\n",
      "print [(x, y) for x in range(5) for y in range(5) if (x+y)%2 == 0 and x != y]\n",
      "print [(x, y) for x in range(5) for y in range(x) if (x+y)%2 == 0]"
     ],
     "language": "python",
     "metadata": {},
     "outputs": [
      {
       "output_type": "stream",
       "stream": "stdout",
       "text": [
        "[(0, 0), (0, 2), (0, 4), (1, 1), (1, 3), (2, 0), (2, 2), (2, 4), (3, 1), (3, 3), (4, 0), (4, 2), (4, 4)]\n",
        "[(0, 2), (0, 4), (1, 3), (2, 0), (2, 4), (3, 1), (4, 0), (4, 2)]\n",
        "[(2, 0), (3, 1), (4, 0), (4, 2)]\n"
       ]
      }
     ],
     "prompt_number": 34
    },
    {
     "cell_type": "markdown",
     "metadata": {},
     "source": [
      "The following example finds all Pythagorean triplets using numbers below 25. (x, y, z) is a called pythagorean triplet if x*x + y*y == z*z."
     ]
    },
    {
     "cell_type": "code",
     "collapsed": false,
     "input": [
      "n = 25\n",
      "[(x, y, z) for x in range(1, n) for y in range(x, n) for z in range(y, n) if x*x + y*y == z*z]"
     ],
     "language": "python",
     "metadata": {},
     "outputs": [
      {
       "metadata": {},
       "output_type": "pyout",
       "prompt_number": 35,
       "text": [
        "[(3, 4, 5), (5, 12, 13), (6, 8, 10), (8, 15, 17), (9, 12, 15), (12, 16, 20)]"
       ]
      }
     ],
     "prompt_number": 35
    },
    {
     "cell_type": "markdown",
     "metadata": {},
     "source": [
      "###Problem 24: Provide an implementation for zip function using list comprehensions.\n",
      "\n",
      "    >>> zip([1, 2, 3], [\"a\", \"b\", \"c\"])\n",
      "        [(1, \"a\"), (2, \"b\"), (3, \"c\")]"
     ]
    },
    {
     "cell_type": "code",
     "collapsed": false,
     "input": [
      "#Preliminary exploration for problem 24\n",
      "a = [1, 2, 3]\n",
      "b = [\"a\", \"b\", \"c\"]\n",
      "[(x, y) for x in a for y in b if a.index(x) == b.index(y)]"
     ],
     "language": "python",
     "metadata": {},
     "outputs": [
      {
       "metadata": {},
       "output_type": "pyout",
       "prompt_number": 49,
       "text": [
        "[(1, 'a'), (2, 'b'), (3, 'c')]"
       ]
      }
     ],
     "prompt_number": 49
    },
    {
     "cell_type": "code",
     "collapsed": false,
     "input": [
      "#Problem 24 solution:\n",
      "def zip(list1, list2):\n",
      "    temp = [(x, y) for x in list1 for y in list2 if list1.index(x) == list2.index(y)]\n",
      "    return temp"
     ],
     "language": "python",
     "metadata": {},
     "outputs": [],
     "prompt_number": 50
    },
    {
     "cell_type": "code",
     "collapsed": false,
     "input": [
      "zip([1, 2, 3], [\"a\", \"b\", \"c\"])"
     ],
     "language": "python",
     "metadata": {},
     "outputs": [
      {
       "metadata": {},
       "output_type": "pyout",
       "prompt_number": 51,
       "text": [
        "[(1, 'a'), (2, 'b'), (3, 'c')]"
       ]
      }
     ],
     "prompt_number": 51
    },
    {
     "cell_type": "markdown",
     "metadata": {},
     "source": [
      "###Problem 25: Python provides a built-in function map that applies a function to each element of a list. Provide an implementation for map using list comprehensions."
     ]
    },
    {
     "cell_type": "code",
     "collapsed": false,
     "input": [
      "#Problem 25 solution:\n",
      "def map(f, target_list):\n",
      "    temp = [f(x) for x in target_list]\n",
      "    return temp"
     ],
     "language": "python",
     "metadata": {},
     "outputs": [],
     "prompt_number": 53
    },
    {
     "cell_type": "code",
     "collapsed": false,
     "input": [
      "def square(x): return x * x\n",
      "map(square, range(5))"
     ],
     "language": "python",
     "metadata": {},
     "outputs": [
      {
       "metadata": {},
       "output_type": "pyout",
       "prompt_number": 54,
       "text": [
        "[0, 1, 4, 9, 16]"
       ]
      }
     ],
     "prompt_number": 54
    },
    {
     "cell_type": "markdown",
     "metadata": {},
     "source": [
      "###Problem 26: Python provides a built-in function filter(f, a) that returns items of the list a for which f(item) returns true. Provide an implementation for filter using list comprehensions."
     ]
    },
    {
     "cell_type": "code",
     "collapsed": false,
     "input": [
      "#Problem 26 solution\n",
      "def filter(f, target_list):\n",
      "    temp = [x for x in target_list if f(x)==True]\n",
      "    return temp"
     ],
     "language": "python",
     "metadata": {},
     "outputs": [],
     "prompt_number": 57
    },
    {
     "cell_type": "code",
     "collapsed": false,
     "input": [
      "def even(x): return x%2 == 0\n",
      "filter(even, range(10))"
     ],
     "language": "python",
     "metadata": {},
     "outputs": [
      {
       "metadata": {},
       "output_type": "pyout",
       "prompt_number": 3,
       "text": [
        "[0, 2, 4, 6, 8]"
       ]
      }
     ],
     "prompt_number": 3
    },
    {
     "cell_type": "markdown",
     "metadata": {},
     "source": [
      "###Problem 27: Write a function triplets that takes a number n as argument and returns a list of triplets such that sum of first two elements of the triplet equals the third element using numbers below n. Please note that (a, b, c) and (b, a, c) represent same triplet."
     ]
    },
    {
     "cell_type": "code",
     "collapsed": false,
     "input": [
      "def triplets(n):\n",
      "    \n",
      "    temp = [(a, b, c) for a in range(1, n)\\\n",
      "            for b in range(1, n) for c in range(1, n)\\\n",
      "            if c == a + b and a <= b]\n",
      "    \n",
      "    return temp"
     ],
     "language": "python",
     "metadata": {},
     "outputs": [],
     "prompt_number": 23
    },
    {
     "cell_type": "code",
     "collapsed": false,
     "input": [
      "triplets(5)"
     ],
     "language": "python",
     "metadata": {},
     "outputs": [
      {
       "metadata": {},
       "output_type": "pyout",
       "prompt_number": 24,
       "text": [
        "[(1, 1, 2), (1, 2, 3), (1, 3, 4), (2, 2, 4)]"
       ]
      }
     ],
     "prompt_number": 24
    },
    {
     "cell_type": "markdown",
     "metadata": {},
     "source": [
      "###Problem 28: Write a function enumerate that takes a list and returns a list of tuples containing (index,item) for each item in the list."
     ]
    },
    {
     "cell_type": "code",
     "collapsed": false,
     "input": [
      "def enumerate(target_list):\n",
      "    temp = [(target_list.index(x), x) for x in target_list]\n",
      "    return temp"
     ],
     "language": "python",
     "metadata": {},
     "outputs": [],
     "prompt_number": 26
    },
    {
     "cell_type": "code",
     "collapsed": false,
     "input": [
      "enumerate([\"a\", \"b\", \"c\"])"
     ],
     "language": "python",
     "metadata": {},
     "outputs": [
      {
       "metadata": {},
       "output_type": "pyout",
       "prompt_number": 27,
       "text": [
        "[(0, 'a'), (1, 'b'), (2, 'c')]"
       ]
      }
     ],
     "prompt_number": 27
    },
    {
     "cell_type": "markdown",
     "metadata": {},
     "source": [
      "###Problem 29: Write a function array to create an 2-dimensional array. The function should take both dimensions as arguments. Value of each element can be initialized to None:"
     ]
    },
    {
     "cell_type": "markdown",
     "metadata": {},
     "source": [
      "<font color=\"red\">\n",
      "Anthony: Can you help me with problem 29?\n",
      "</font>"
     ]
    },
    {
     "cell_type": "code",
     "collapsed": false,
     "input": [
      "# Problem 29 Anthony\n",
      "def array(vertical, horizontal):\n",
      "    \n",
      "    temp0=[]\n",
      "    temp1=[]\n",
      "    \n",
      "    for y in range(vertical):\n",
      "        \n",
      "        for x in range(horizontal):\n",
      "            temp0.append(None)\n",
      "        \n",
      "        temp1.append(temp0)\n",
      "        temp0=[]\n",
      "    \n",
      "    return temp1"
     ],
     "language": "python",
     "metadata": {},
     "outputs": [],
     "prompt_number": 3
    },
    {
     "cell_type": "code",
     "collapsed": false,
     "input": [
      "a = array(2, 3)\n",
      "a"
     ],
     "language": "python",
     "metadata": {},
     "outputs": [
      {
       "metadata": {},
       "output_type": "pyout",
       "prompt_number": 4,
       "text": [
        "[[None, None, None], [None, None, None]]"
       ]
      }
     ],
     "prompt_number": 4
    },
    {
     "cell_type": "code",
     "collapsed": false,
     "input": [
      "a[0][0] = 5\n",
      "a"
     ],
     "language": "python",
     "metadata": {},
     "outputs": [
      {
       "metadata": {},
       "output_type": "pyout",
       "prompt_number": 21,
       "text": [
        "[[5, None, None], [None, None, None]]"
       ]
      }
     ],
     "prompt_number": 21
    },
    {
     "cell_type": "markdown",
     "metadata": {},
     "source": [
      "###Problem 30: Write a python function parse_csv to parse csv (comma separated values) files.\n",
      "\n",
      "    >>> print open('a.csv').read()\n",
      "    a,b,c\n",
      "    1,2,3\n",
      "    2,3,4\n",
      "    3,4,5\n",
      "    >>> parse_csv('a.csv')\n",
      "    [['a', 'b', 'c'], ['1', '2', '3'], ['2', '3', '4'], ['3', '4', '5']]"
     ]
    },
    {
     "cell_type": "code",
     "collapsed": false,
     "input": [
      "#Anthony's problem 30 solution:\n",
      "def parse_csv(file_name):\n",
      "    f=open(file_name)\n",
      "    out = []\n",
      "    temp = ''\n",
      "    for line in f:\n",
      "        temp = line.strip()\n",
      "        out.append(temp.split(','))\n",
      "    f.close()\n",
      "    return out\n",
      "    "
     ],
     "language": "python",
     "metadata": {},
     "outputs": [],
     "prompt_number": 48
    },
    {
     "cell_type": "code",
     "collapsed": false,
     "input": [
      "parse_csv('a.csv')"
     ],
     "language": "python",
     "metadata": {},
     "outputs": [
      {
       "metadata": {},
       "output_type": "pyout",
       "prompt_number": 49,
       "text": [
        "[['a', 'b', 'c'], ['1', '2', '3'], ['2', '3', '4'], ['3', '4', '5']]"
       ]
      }
     ],
     "prompt_number": 49
    },
    {
     "cell_type": "markdown",
     "metadata": {},
     "source": [
      "###Problem 31: Generalize the above implementation of csv parser to support any delimiter and comments.\n",
      "\n",
      "    >>> print open('a.txt').read()\n",
      "    # elements are separated by ! and comment indicator is #\n",
      "    a!b!c\n",
      "    1!2!3\n",
      "    2!3!4\n",
      "    3!4!5\n",
      "    >>> parse('a.txt', '!', '#')\n",
      "    [['a', 'b', 'c'], ['1', '2', '3'], ['2', '3', '4'], ['3', '4', '5']]"
     ]
    },
    {
     "cell_type": "code",
     "collapsed": false,
     "input": [
      "#Anthony's problem 30 solution:\n",
      "def parse(file_name,divider,comment):\n",
      "    f=open(file_name)\n",
      "    out = []\n",
      "    temp = ''\n",
      "    for line in f:\n",
      "        temp = line.strip()\n",
      "        if comment in temp:\n",
      "            temp=''\n",
      "        else:\n",
      "            out.append(temp.split(divider))\n",
      "    f.close()\n",
      "    return out\n",
      "    "
     ],
     "language": "python",
     "metadata": {},
     "outputs": [],
     "prompt_number": 50
    },
    {
     "cell_type": "code",
     "collapsed": false,
     "input": [
      "print open('a.txt').read()\n",
      "parse('a.txt','!', '#')"
     ],
     "language": "python",
     "metadata": {},
     "outputs": [
      {
       "output_type": "stream",
       "stream": "stdout",
       "text": [
        "# elements are separated by ! and comment indicator is #\n",
        "a!b!c\n",
        "1!2!3\n",
        "2!3!4\n",
        "3!4!5\n"
       ]
      },
      {
       "metadata": {},
       "output_type": "pyout",
       "prompt_number": 51,
       "text": [
        "[['a', 'b', 'c'], ['1', '2', '3'], ['2', '3', '4'], ['3', '4', '5']]"
       ]
      }
     ],
     "prompt_number": 51
    },
    {
     "cell_type": "markdown",
     "metadata": {},
     "source": [
      "###Problem 32: Write a function mutate to compute all words generated by a single mutation on a given word. A mutation is defined as inserting a character, deleting a character, replacing a character, or swapping 2 consecutive characters in a string. For simplicity consider only letters from a to z.\n",
      "\n",
      "    >>> words = mutate('hello')\n",
      "    >>> 'helo' in words\n",
      "    True\n",
      "    >>> 'cello' in words\n",
      "    True\n",
      "    >>> 'helol' in words\n",
      "    True"
     ]
    },
    {
     "cell_type": "code",
     "collapsed": false,
     "input": [
      "#Anthony's problem 32 solution: \n",
      "def mutate(word):\n",
      "    out = [word]\n",
      "    #alphabet = []\n",
      "    for i in range(0,len(word)):\n",
      "        temp_word=word\n",
      "        temp_word=''.join([temp_word[0:i],temp_word[i+1:len(word)]])\n",
      "        out.append(temp_word)\n",
      "        if 0<i:\n",
      "            temp_word=word\n",
      "            temp_word=''.join([temp_word[0:i-1],temp_word[i],temp_word[i-1],temp_word[i+1:len(word)]])\n",
      "            out.append(temp_word) \n",
      "        \n",
      "    \n",
      "    for letter in 'qwertyuiopasdfghjklzxcvbnm':\n",
      "        #alphabet.append(letter)\n",
      "        for i in range(0,len(word)):\n",
      "            temp_word=word\n",
      "            temp_word=''.join([temp_word[0:i],letter,temp_word[i+1:len(word)]])\n",
      "            out.append(temp_word)\n",
      "            temp_word=word\n",
      "            temp_word=''.join([temp_word[0:i],letter,temp_word[i:len(word)]])\n",
      "            out.append(temp_word)\n",
      "            \n",
      "        temp_word=word\n",
      "        temp_word=''.join([temp_word,letter])\n",
      "        out.append(temp_word)\n",
      "            \n",
      "    #print alphabet\n",
      "    return out"
     ],
     "language": "python",
     "metadata": {},
     "outputs": [],
     "prompt_number": 93
    },
    {
     "cell_type": "code",
     "collapsed": false,
     "input": [
      "mutate('hello')"
     ],
     "language": "python",
     "metadata": {},
     "outputs": [
      {
       "metadata": {},
       "output_type": "pyout",
       "prompt_number": 86,
       "text": [
        "['hello',\n",
        " 'ello',\n",
        " 'hllo',\n",
        " 'ehllo',\n",
        " 'helo',\n",
        " 'hlelo',\n",
        " 'helo',\n",
        " 'hello',\n",
        " 'hell',\n",
        " 'helol',\n",
        " 'qello',\n",
        " 'qhello',\n",
        " 'hqllo',\n",
        " 'hqello',\n",
        " 'heqlo',\n",
        " 'heqllo',\n",
        " 'helqo',\n",
        " 'helqlo',\n",
        " 'hellq',\n",
        " 'hellqo',\n",
        " 'helloq',\n",
        " 'wello',\n",
        " 'whello',\n",
        " 'hwllo',\n",
        " 'hwello',\n",
        " 'hewlo',\n",
        " 'hewllo',\n",
        " 'helwo',\n",
        " 'helwlo',\n",
        " 'hellw',\n",
        " 'hellwo',\n",
        " 'hellow',\n",
        " 'eello',\n",
        " 'ehello',\n",
        " 'hello',\n",
        " 'heello',\n",
        " 'heelo',\n",
        " 'heello',\n",
        " 'heleo',\n",
        " 'helelo',\n",
        " 'helle',\n",
        " 'helleo',\n",
        " 'helloe',\n",
        " 'rello',\n",
        " 'rhello',\n",
        " 'hrllo',\n",
        " 'hrello',\n",
        " 'herlo',\n",
        " 'herllo',\n",
        " 'helro',\n",
        " 'helrlo',\n",
        " 'hellr',\n",
        " 'hellro',\n",
        " 'hellor',\n",
        " 'tello',\n",
        " 'thello',\n",
        " 'htllo',\n",
        " 'htello',\n",
        " 'hetlo',\n",
        " 'hetllo',\n",
        " 'helto',\n",
        " 'heltlo',\n",
        " 'hellt',\n",
        " 'hellto',\n",
        " 'hellot',\n",
        " 'yello',\n",
        " 'yhello',\n",
        " 'hyllo',\n",
        " 'hyello',\n",
        " 'heylo',\n",
        " 'heyllo',\n",
        " 'helyo',\n",
        " 'helylo',\n",
        " 'helly',\n",
        " 'hellyo',\n",
        " 'helloy',\n",
        " 'uello',\n",
        " 'uhello',\n",
        " 'hullo',\n",
        " 'huello',\n",
        " 'heulo',\n",
        " 'heullo',\n",
        " 'heluo',\n",
        " 'helulo',\n",
        " 'hellu',\n",
        " 'helluo',\n",
        " 'hellou',\n",
        " 'iello',\n",
        " 'ihello',\n",
        " 'hillo',\n",
        " 'hiello',\n",
        " 'heilo',\n",
        " 'heillo',\n",
        " 'helio',\n",
        " 'helilo',\n",
        " 'helli',\n",
        " 'hellio',\n",
        " 'helloi',\n",
        " 'oello',\n",
        " 'ohello',\n",
        " 'hollo',\n",
        " 'hoello',\n",
        " 'heolo',\n",
        " 'heollo',\n",
        " 'heloo',\n",
        " 'helolo',\n",
        " 'hello',\n",
        " 'helloo',\n",
        " 'helloo',\n",
        " 'pello',\n",
        " 'phello',\n",
        " 'hpllo',\n",
        " 'hpello',\n",
        " 'heplo',\n",
        " 'hepllo',\n",
        " 'helpo',\n",
        " 'helplo',\n",
        " 'hellp',\n",
        " 'hellpo',\n",
        " 'hellop',\n",
        " 'aello',\n",
        " 'ahello',\n",
        " 'hallo',\n",
        " 'haello',\n",
        " 'healo',\n",
        " 'heallo',\n",
        " 'helao',\n",
        " 'helalo',\n",
        " 'hella',\n",
        " 'hellao',\n",
        " 'helloa',\n",
        " 'sello',\n",
        " 'shello',\n",
        " 'hsllo',\n",
        " 'hsello',\n",
        " 'heslo',\n",
        " 'hesllo',\n",
        " 'helso',\n",
        " 'helslo',\n",
        " 'hells',\n",
        " 'hellso',\n",
        " 'hellos',\n",
        " 'dello',\n",
        " 'dhello',\n",
        " 'hdllo',\n",
        " 'hdello',\n",
        " 'hedlo',\n",
        " 'hedllo',\n",
        " 'heldo',\n",
        " 'heldlo',\n",
        " 'helld',\n",
        " 'helldo',\n",
        " 'hellod',\n",
        " 'fello',\n",
        " 'fhello',\n",
        " 'hfllo',\n",
        " 'hfello',\n",
        " 'heflo',\n",
        " 'hefllo',\n",
        " 'helfo',\n",
        " 'helflo',\n",
        " 'hellf',\n",
        " 'hellfo',\n",
        " 'hellof',\n",
        " 'gello',\n",
        " 'ghello',\n",
        " 'hgllo',\n",
        " 'hgello',\n",
        " 'heglo',\n",
        " 'hegllo',\n",
        " 'helgo',\n",
        " 'helglo',\n",
        " 'hellg',\n",
        " 'hellgo',\n",
        " 'hellog',\n",
        " 'hello',\n",
        " 'hhello',\n",
        " 'hhllo',\n",
        " 'hhello',\n",
        " 'hehlo',\n",
        " 'hehllo',\n",
        " 'helho',\n",
        " 'helhlo',\n",
        " 'hellh',\n",
        " 'hellho',\n",
        " 'helloh',\n",
        " 'jello',\n",
        " 'jhello',\n",
        " 'hjllo',\n",
        " 'hjello',\n",
        " 'hejlo',\n",
        " 'hejllo',\n",
        " 'heljo',\n",
        " 'heljlo',\n",
        " 'hellj',\n",
        " 'helljo',\n",
        " 'helloj',\n",
        " 'kello',\n",
        " 'khello',\n",
        " 'hkllo',\n",
        " 'hkello',\n",
        " 'heklo',\n",
        " 'hekllo',\n",
        " 'helko',\n",
        " 'helklo',\n",
        " 'hellk',\n",
        " 'hellko',\n",
        " 'hellok',\n",
        " 'lello',\n",
        " 'lhello',\n",
        " 'hlllo',\n",
        " 'hlello',\n",
        " 'hello',\n",
        " 'helllo',\n",
        " 'hello',\n",
        " 'helllo',\n",
        " 'helll',\n",
        " 'helllo',\n",
        " 'hellol',\n",
        " 'zello',\n",
        " 'zhello',\n",
        " 'hzllo',\n",
        " 'hzello',\n",
        " 'hezlo',\n",
        " 'hezllo',\n",
        " 'helzo',\n",
        " 'helzlo',\n",
        " 'hellz',\n",
        " 'hellzo',\n",
        " 'helloz',\n",
        " 'xello',\n",
        " 'xhello',\n",
        " 'hxllo',\n",
        " 'hxello',\n",
        " 'hexlo',\n",
        " 'hexllo',\n",
        " 'helxo',\n",
        " 'helxlo',\n",
        " 'hellx',\n",
        " 'hellxo',\n",
        " 'hellox',\n",
        " 'cello',\n",
        " 'chello',\n",
        " 'hcllo',\n",
        " 'hcello',\n",
        " 'heclo',\n",
        " 'hecllo',\n",
        " 'helco',\n",
        " 'helclo',\n",
        " 'hellc',\n",
        " 'hellco',\n",
        " 'helloc',\n",
        " 'vello',\n",
        " 'vhello',\n",
        " 'hvllo',\n",
        " 'hvello',\n",
        " 'hevlo',\n",
        " 'hevllo',\n",
        " 'helvo',\n",
        " 'helvlo',\n",
        " 'hellv',\n",
        " 'hellvo',\n",
        " 'hellov',\n",
        " 'bello',\n",
        " 'bhello',\n",
        " 'hbllo',\n",
        " 'hbello',\n",
        " 'heblo',\n",
        " 'hebllo',\n",
        " 'helbo',\n",
        " 'helblo',\n",
        " 'hellb',\n",
        " 'hellbo',\n",
        " 'hellob',\n",
        " 'nello',\n",
        " 'nhello',\n",
        " 'hnllo',\n",
        " 'hnello',\n",
        " 'henlo',\n",
        " 'henllo',\n",
        " 'helno',\n",
        " 'helnlo',\n",
        " 'helln',\n",
        " 'hellno',\n",
        " 'hellon',\n",
        " 'mello',\n",
        " 'mhello',\n",
        " 'hmllo',\n",
        " 'hmello',\n",
        " 'hemlo',\n",
        " 'hemllo',\n",
        " 'helmo',\n",
        " 'helmlo',\n",
        " 'hellm',\n",
        " 'hellmo',\n",
        " 'hellom']"
       ]
      }
     ],
     "prompt_number": 86
    },
    {
     "cell_type": "markdown",
     "metadata": {},
     "source": [
      "###Problem 33: Write a function nearly_equal to test whether two strings are nearly equal. Two strings a and b are nearly equal when a can be generated by a single mutation on b.\n",
      "\n",
      "    >>> nearly_equal('python', 'perl')\n",
      "    False\n",
      "    >>> nearly_equal('perl', 'pearl')\n",
      "    True\n",
      "    >>> nearly_equal('python', 'jython')\n",
      "    True\n",
      "    >>> nearly_equal('man', 'woman')\n",
      "    False"
     ]
    },
    {
     "cell_type": "code",
     "collapsed": false,
     "input": [
      "#Anthony's problem 33 solution:\n",
      "def nearly_equal(stringa,stringb):\n",
      "    test=mutate(stringb)\n",
      "    return stringa in test\n"
     ],
     "language": "python",
     "metadata": {},
     "outputs": [],
     "prompt_number": 87
    },
    {
     "cell_type": "code",
     "collapsed": false,
     "input": [
      "nearly_equal('python', 'perl')"
     ],
     "language": "python",
     "metadata": {},
     "outputs": [
      {
       "metadata": {},
       "output_type": "pyout",
       "prompt_number": 88,
       "text": [
        "False"
       ]
      }
     ],
     "prompt_number": 88
    },
    {
     "cell_type": "code",
     "collapsed": false,
     "input": [
      "nearly_equal('perl', 'pearl')"
     ],
     "language": "python",
     "metadata": {},
     "outputs": [
      {
       "metadata": {},
       "output_type": "pyout",
       "prompt_number": 89,
       "text": [
        "True"
       ]
      }
     ],
     "prompt_number": 89
    },
    {
     "cell_type": "code",
     "collapsed": false,
     "input": [
      "nearly_equal('python', 'jython')"
     ],
     "language": "python",
     "metadata": {},
     "outputs": [
      {
       "metadata": {},
       "output_type": "pyout",
       "prompt_number": 90,
       "text": [
        "True"
       ]
      }
     ],
     "prompt_number": 90
    },
    {
     "cell_type": "code",
     "collapsed": false,
     "input": [
      "nearly_equal('man', 'woman')"
     ],
     "language": "python",
     "metadata": {},
     "outputs": [
      {
       "metadata": {},
       "output_type": "pyout",
       "prompt_number": 91,
       "text": [
        "False"
       ]
      }
     ],
     "prompt_number": 91
    },
    {
     "cell_type": "markdown",
     "metadata": {},
     "source": [
      "#2.7. Dictionaries\n",
      "\n",
      "Dictionaries are like lists, but they can be indexed with non integer keys also. Unlike lists, dictionaries are not ordered."
     ]
    },
    {
     "cell_type": "code",
     "collapsed": false,
     "input": [
      "a = {'x': 1, 'y': 2, 'z': 3}\n",
      "a['x']"
     ],
     "language": "python",
     "metadata": {},
     "outputs": [
      {
       "metadata": {},
       "output_type": "pyout",
       "prompt_number": 1,
       "text": [
        "1"
       ]
      }
     ],
     "prompt_number": 1
    },
    {
     "cell_type": "code",
     "collapsed": false,
     "input": [
      "a['z']"
     ],
     "language": "python",
     "metadata": {},
     "outputs": [
      {
       "metadata": {},
       "output_type": "pyout",
       "prompt_number": 2,
       "text": [
        "3"
       ]
      }
     ],
     "prompt_number": 2
    },
    {
     "cell_type": "code",
     "collapsed": false,
     "input": [
      "b = {}\n",
      "b['x'] = 2\n",
      "b[2] = 'foo'\n",
      "b[(1, 2)] = 3\n",
      "b"
     ],
     "language": "python",
     "metadata": {},
     "outputs": [
      {
       "metadata": {},
       "output_type": "pyout",
       "prompt_number": 4,
       "text": [
        "{2: 'foo', 'x': 2, (1, 2): 3}"
       ]
      }
     ],
     "prompt_number": 4
    },
    {
     "cell_type": "markdown",
     "metadata": {},
     "source": [
      "The del keyword can be used to delete an item from a dictionary."
     ]
    },
    {
     "cell_type": "code",
     "collapsed": false,
     "input": [
      "a = {'x': 1, 'y': 2, 'z': 3}\n",
      "del a['x']\n",
      "a"
     ],
     "language": "python",
     "metadata": {},
     "outputs": [
      {
       "metadata": {},
       "output_type": "pyout",
       "prompt_number": 5,
       "text": [
        "{'y': 2, 'z': 3}"
       ]
      }
     ],
     "prompt_number": 5
    },
    {
     "cell_type": "markdown",
     "metadata": {},
     "source": [
      "    The keys method returns all keys in a dictionary, \n",
      "    the values method returns all values in a dictionary and \n",
      "    items method returns all key-value pairs in a dictionary."
     ]
    },
    {
     "cell_type": "code",
     "collapsed": false,
     "input": [
      "a = {'x': 1, 'y': 2, 'z': 3}\n",
      "a.keys()"
     ],
     "language": "python",
     "metadata": {},
     "outputs": [
      {
       "metadata": {},
       "output_type": "pyout",
       "prompt_number": 6,
       "text": [
        "['y', 'x', 'z']"
       ]
      }
     ],
     "prompt_number": 6
    },
    {
     "cell_type": "code",
     "collapsed": false,
     "input": [
      "a.values()"
     ],
     "language": "python",
     "metadata": {},
     "outputs": [
      {
       "metadata": {},
       "output_type": "pyout",
       "prompt_number": 7,
       "text": [
        "[2, 1, 3]"
       ]
      }
     ],
     "prompt_number": 7
    },
    {
     "cell_type": "code",
     "collapsed": false,
     "input": [
      "a.items()"
     ],
     "language": "python",
     "metadata": {},
     "outputs": [
      {
       "metadata": {},
       "output_type": "pyout",
       "prompt_number": 8,
       "text": [
        "[('y', 2), ('x', 1), ('z', 3)]"
       ]
      }
     ],
     "prompt_number": 8
    },
    {
     "cell_type": "markdown",
     "metadata": {},
     "source": [
      "The for statement can be used to iterate over a dictionary."
     ]
    },
    {
     "cell_type": "code",
     "collapsed": false,
     "input": [
      "for key in a: print key"
     ],
     "language": "python",
     "metadata": {},
     "outputs": [
      {
       "output_type": "stream",
       "stream": "stdout",
       "text": [
        "y\n",
        "x\n",
        "z\n"
       ]
      }
     ],
     "prompt_number": 9
    },
    {
     "cell_type": "code",
     "collapsed": false,
     "input": [
      "for key, value in a.items(): print key, value"
     ],
     "language": "python",
     "metadata": {},
     "outputs": [
      {
       "output_type": "stream",
       "stream": "stdout",
       "text": [
        "y 2\n",
        "x 1\n",
        "z 3\n"
       ]
      }
     ],
     "prompt_number": 10
    },
    {
     "cell_type": "markdown",
     "metadata": {},
     "source": [
      "Presence of a key in a dictionary can be tested using in operator or has_key method."
     ]
    },
    {
     "cell_type": "code",
     "collapsed": false,
     "input": [
      "a = {'x': 1, 'y': 2, 'z': 3}\n",
      "'x' in a"
     ],
     "language": "python",
     "metadata": {},
     "outputs": [
      {
       "metadata": {},
       "output_type": "pyout",
       "prompt_number": 11,
       "text": [
        "True"
       ]
      }
     ],
     "prompt_number": 11
    },
    {
     "cell_type": "code",
     "collapsed": false,
     "input": [
      "'p' in a"
     ],
     "language": "python",
     "metadata": {},
     "outputs": [
      {
       "metadata": {},
       "output_type": "pyout",
       "prompt_number": 12,
       "text": [
        "False"
       ]
      }
     ],
     "prompt_number": 12
    },
    {
     "cell_type": "code",
     "collapsed": false,
     "input": [
      "a.has_key('x')"
     ],
     "language": "python",
     "metadata": {},
     "outputs": [
      {
       "metadata": {},
       "output_type": "pyout",
       "prompt_number": 13,
       "text": [
        "True"
       ]
      }
     ],
     "prompt_number": 13
    },
    {
     "cell_type": "code",
     "collapsed": false,
     "input": [
      "a.has_key('p')"
     ],
     "language": "python",
     "metadata": {},
     "outputs": [
      {
       "metadata": {},
       "output_type": "pyout",
       "prompt_number": 14,
       "text": [
        "False"
       ]
      }
     ],
     "prompt_number": 14
    },
    {
     "cell_type": "markdown",
     "metadata": {},
     "source": [
      "Other useful methods on dictionaries are *get* and *setdefault*.\n",
      "\n",
      "    Read stuff at https://pythontips.com/2013/07/29/dictionaries-have-a-get-method/"
     ]
    },
    {
     "cell_type": "code",
     "collapsed": false,
     "input": [],
     "language": "python",
     "metadata": {},
     "outputs": []
    }
   ],
   "metadata": {}
  }
 ]
}